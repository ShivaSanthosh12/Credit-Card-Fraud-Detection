{
 "cells": [
  {
   "cell_type": "code",
   "execution_count": 1,
   "id": "975586b3",
   "metadata": {
    "_cell_guid": "b1076dfc-b9ad-4769-8c92-a6c4dae69d19",
    "_uuid": "8f2839f25d086af736a60e9eeb907d3b93b6e0e5",
    "execution": {
     "iopub.execute_input": "2023-09-14T15:32:59.171152Z",
     "iopub.status.busy": "2023-09-14T15:32:59.170301Z",
     "iopub.status.idle": "2023-09-14T15:33:00.912294Z",
     "shell.execute_reply": "2023-09-14T15:33:00.910612Z"
    },
    "papermill": {
     "duration": 1.759217,
     "end_time": "2023-09-14T15:33:00.915146",
     "exception": false,
     "start_time": "2023-09-14T15:32:59.155929",
     "status": "completed"
    },
    "tags": []
   },
   "outputs": [
    {
     "name": "stdout",
     "output_type": "stream",
     "text": [
      "/kaggle/input/creditcard-shiva/creditcard.csv\n"
     ]
    }
   ],
   "source": [
    "# This Python 3 environment comes with many helpful analytics libraries installed\n",
    "# It is defined by the kaggle/python Docker image: https://github.com/kaggle/docker-python\n",
    "# For example, here's several helpful packages to load\n",
    "\n",
    "import numpy as np # linear algebra\n",
    "import pandas as pd # data processing, CSV file I/O (e.g. pd.read_csv)\n",
    "from sklearn.model_selection import train_test_split\n",
    "from sklearn.linear_model import LogisticRegression\n",
    "from sklearn.metrics import accuracy_score\n",
    "\n",
    "# Input data files are available in the read-only \"../input/\" directory\n",
    "# For example, running this (by clicking run or pressing Shift+Enter) will list all files under the input directory\n",
    "\n",
    "import os\n",
    "for dirname, _, filenames in os.walk('/kaggle/input'):\n",
    "    for filename in filenames:\n",
    "        print(os.path.join(dirname, filename))\n",
    "\n",
    "# You can write up to 20GB to the current directory (/kaggle/working/) that gets preserved as output when you create a version using \"Save & Run All\" \n",
    "# You can also write temporary files to /kaggle/temp/, but they won't be saved outside of the current session"
   ]
  },
  {
   "cell_type": "code",
   "execution_count": 2,
   "id": "8edbbd4a",
   "metadata": {
    "execution": {
     "iopub.execute_input": "2023-09-14T15:33:00.941561Z",
     "iopub.status.busy": "2023-09-14T15:33:00.940444Z",
     "iopub.status.idle": "2023-09-14T15:33:05.575013Z",
     "shell.execute_reply": "2023-09-14T15:33:05.573756Z"
    },
    "papermill": {
     "duration": 4.6502,
     "end_time": "2023-09-14T15:33:05.578170",
     "exception": false,
     "start_time": "2023-09-14T15:33:00.927970",
     "status": "completed"
    },
    "tags": []
   },
   "outputs": [],
   "source": [
    "credit_data=pd.read_csv(\"/kaggle/input/creditcard-shiva/creditcard.csv\")"
   ]
  },
  {
   "cell_type": "code",
   "execution_count": 3,
   "id": "c7c5da58",
   "metadata": {
    "execution": {
     "iopub.execute_input": "2023-09-14T15:33:05.603430Z",
     "iopub.status.busy": "2023-09-14T15:33:05.603054Z",
     "iopub.status.idle": "2023-09-14T15:33:05.646968Z",
     "shell.execute_reply": "2023-09-14T15:33:05.645635Z"
    },
    "papermill": {
     "duration": 0.059674,
     "end_time": "2023-09-14T15:33:05.649599",
     "exception": false,
     "start_time": "2023-09-14T15:33:05.589925",
     "status": "completed"
    },
    "tags": []
   },
   "outputs": [
    {
     "data": {
      "text/html": [
       "<div>\n",
       "<style scoped>\n",
       "    .dataframe tbody tr th:only-of-type {\n",
       "        vertical-align: middle;\n",
       "    }\n",
       "\n",
       "    .dataframe tbody tr th {\n",
       "        vertical-align: top;\n",
       "    }\n",
       "\n",
       "    .dataframe thead th {\n",
       "        text-align: right;\n",
       "    }\n",
       "</style>\n",
       "<table border=\"1\" class=\"dataframe\">\n",
       "  <thead>\n",
       "    <tr style=\"text-align: right;\">\n",
       "      <th></th>\n",
       "      <th>Time</th>\n",
       "      <th>V1</th>\n",
       "      <th>V2</th>\n",
       "      <th>V3</th>\n",
       "      <th>V4</th>\n",
       "      <th>V5</th>\n",
       "      <th>V6</th>\n",
       "      <th>V7</th>\n",
       "      <th>V8</th>\n",
       "      <th>V9</th>\n",
       "      <th>...</th>\n",
       "      <th>V21</th>\n",
       "      <th>V22</th>\n",
       "      <th>V23</th>\n",
       "      <th>V24</th>\n",
       "      <th>V25</th>\n",
       "      <th>V26</th>\n",
       "      <th>V27</th>\n",
       "      <th>V28</th>\n",
       "      <th>Amount</th>\n",
       "      <th>Class</th>\n",
       "    </tr>\n",
       "  </thead>\n",
       "  <tbody>\n",
       "    <tr>\n",
       "      <th>0</th>\n",
       "      <td>0.0</td>\n",
       "      <td>-1.359807</td>\n",
       "      <td>-0.072781</td>\n",
       "      <td>2.536347</td>\n",
       "      <td>1.378155</td>\n",
       "      <td>-0.338321</td>\n",
       "      <td>0.462388</td>\n",
       "      <td>0.239599</td>\n",
       "      <td>0.098698</td>\n",
       "      <td>0.363787</td>\n",
       "      <td>...</td>\n",
       "      <td>-0.018307</td>\n",
       "      <td>0.277838</td>\n",
       "      <td>-0.110474</td>\n",
       "      <td>0.066928</td>\n",
       "      <td>0.128539</td>\n",
       "      <td>-0.189115</td>\n",
       "      <td>0.133558</td>\n",
       "      <td>-0.021053</td>\n",
       "      <td>149.62</td>\n",
       "      <td>0</td>\n",
       "    </tr>\n",
       "    <tr>\n",
       "      <th>1</th>\n",
       "      <td>0.0</td>\n",
       "      <td>1.191857</td>\n",
       "      <td>0.266151</td>\n",
       "      <td>0.166480</td>\n",
       "      <td>0.448154</td>\n",
       "      <td>0.060018</td>\n",
       "      <td>-0.082361</td>\n",
       "      <td>-0.078803</td>\n",
       "      <td>0.085102</td>\n",
       "      <td>-0.255425</td>\n",
       "      <td>...</td>\n",
       "      <td>-0.225775</td>\n",
       "      <td>-0.638672</td>\n",
       "      <td>0.101288</td>\n",
       "      <td>-0.339846</td>\n",
       "      <td>0.167170</td>\n",
       "      <td>0.125895</td>\n",
       "      <td>-0.008983</td>\n",
       "      <td>0.014724</td>\n",
       "      <td>2.69</td>\n",
       "      <td>0</td>\n",
       "    </tr>\n",
       "    <tr>\n",
       "      <th>2</th>\n",
       "      <td>1.0</td>\n",
       "      <td>-1.358354</td>\n",
       "      <td>-1.340163</td>\n",
       "      <td>1.773209</td>\n",
       "      <td>0.379780</td>\n",
       "      <td>-0.503198</td>\n",
       "      <td>1.800499</td>\n",
       "      <td>0.791461</td>\n",
       "      <td>0.247676</td>\n",
       "      <td>-1.514654</td>\n",
       "      <td>...</td>\n",
       "      <td>0.247998</td>\n",
       "      <td>0.771679</td>\n",
       "      <td>0.909412</td>\n",
       "      <td>-0.689281</td>\n",
       "      <td>-0.327642</td>\n",
       "      <td>-0.139097</td>\n",
       "      <td>-0.055353</td>\n",
       "      <td>-0.059752</td>\n",
       "      <td>378.66</td>\n",
       "      <td>0</td>\n",
       "    </tr>\n",
       "    <tr>\n",
       "      <th>3</th>\n",
       "      <td>1.0</td>\n",
       "      <td>-0.966272</td>\n",
       "      <td>-0.185226</td>\n",
       "      <td>1.792993</td>\n",
       "      <td>-0.863291</td>\n",
       "      <td>-0.010309</td>\n",
       "      <td>1.247203</td>\n",
       "      <td>0.237609</td>\n",
       "      <td>0.377436</td>\n",
       "      <td>-1.387024</td>\n",
       "      <td>...</td>\n",
       "      <td>-0.108300</td>\n",
       "      <td>0.005274</td>\n",
       "      <td>-0.190321</td>\n",
       "      <td>-1.175575</td>\n",
       "      <td>0.647376</td>\n",
       "      <td>-0.221929</td>\n",
       "      <td>0.062723</td>\n",
       "      <td>0.061458</td>\n",
       "      <td>123.50</td>\n",
       "      <td>0</td>\n",
       "    </tr>\n",
       "    <tr>\n",
       "      <th>4</th>\n",
       "      <td>2.0</td>\n",
       "      <td>-1.158233</td>\n",
       "      <td>0.877737</td>\n",
       "      <td>1.548718</td>\n",
       "      <td>0.403034</td>\n",
       "      <td>-0.407193</td>\n",
       "      <td>0.095921</td>\n",
       "      <td>0.592941</td>\n",
       "      <td>-0.270533</td>\n",
       "      <td>0.817739</td>\n",
       "      <td>...</td>\n",
       "      <td>-0.009431</td>\n",
       "      <td>0.798278</td>\n",
       "      <td>-0.137458</td>\n",
       "      <td>0.141267</td>\n",
       "      <td>-0.206010</td>\n",
       "      <td>0.502292</td>\n",
       "      <td>0.219422</td>\n",
       "      <td>0.215153</td>\n",
       "      <td>69.99</td>\n",
       "      <td>0</td>\n",
       "    </tr>\n",
       "  </tbody>\n",
       "</table>\n",
       "<p>5 rows × 31 columns</p>\n",
       "</div>"
      ],
      "text/plain": [
       "   Time        V1        V2        V3        V4        V5        V6        V7  \\\n",
       "0   0.0 -1.359807 -0.072781  2.536347  1.378155 -0.338321  0.462388  0.239599   \n",
       "1   0.0  1.191857  0.266151  0.166480  0.448154  0.060018 -0.082361 -0.078803   \n",
       "2   1.0 -1.358354 -1.340163  1.773209  0.379780 -0.503198  1.800499  0.791461   \n",
       "3   1.0 -0.966272 -0.185226  1.792993 -0.863291 -0.010309  1.247203  0.237609   \n",
       "4   2.0 -1.158233  0.877737  1.548718  0.403034 -0.407193  0.095921  0.592941   \n",
       "\n",
       "         V8        V9  ...       V21       V22       V23       V24       V25  \\\n",
       "0  0.098698  0.363787  ... -0.018307  0.277838 -0.110474  0.066928  0.128539   \n",
       "1  0.085102 -0.255425  ... -0.225775 -0.638672  0.101288 -0.339846  0.167170   \n",
       "2  0.247676 -1.514654  ...  0.247998  0.771679  0.909412 -0.689281 -0.327642   \n",
       "3  0.377436 -1.387024  ... -0.108300  0.005274 -0.190321 -1.175575  0.647376   \n",
       "4 -0.270533  0.817739  ... -0.009431  0.798278 -0.137458  0.141267 -0.206010   \n",
       "\n",
       "        V26       V27       V28  Amount  Class  \n",
       "0 -0.189115  0.133558 -0.021053  149.62      0  \n",
       "1  0.125895 -0.008983  0.014724    2.69      0  \n",
       "2 -0.139097 -0.055353 -0.059752  378.66      0  \n",
       "3 -0.221929  0.062723  0.061458  123.50      0  \n",
       "4  0.502292  0.219422  0.215153   69.99      0  \n",
       "\n",
       "[5 rows x 31 columns]"
      ]
     },
     "execution_count": 3,
     "metadata": {},
     "output_type": "execute_result"
    }
   ],
   "source": [
    "#Print first 5 rows of dataframe\n",
    "credit_data.head()"
   ]
  },
  {
   "cell_type": "code",
   "execution_count": 4,
   "id": "23b4c505",
   "metadata": {
    "execution": {
     "iopub.execute_input": "2023-09-14T15:33:05.679730Z",
     "iopub.status.busy": "2023-09-14T15:33:05.678385Z",
     "iopub.status.idle": "2023-09-14T15:33:05.805591Z",
     "shell.execute_reply": "2023-09-14T15:33:05.804448Z"
    },
    "papermill": {
     "duration": 0.147524,
     "end_time": "2023-09-14T15:33:05.808908",
     "exception": false,
     "start_time": "2023-09-14T15:33:05.661384",
     "status": "completed"
    },
    "tags": []
   },
   "outputs": [
    {
     "name": "stdout",
     "output_type": "stream",
     "text": [
      "<class 'pandas.core.frame.DataFrame'>\n",
      "RangeIndex: 284807 entries, 0 to 284806\n",
      "Data columns (total 31 columns):\n",
      " #   Column  Non-Null Count   Dtype  \n",
      "---  ------  --------------   -----  \n",
      " 0   Time    284807 non-null  float64\n",
      " 1   V1      284807 non-null  float64\n",
      " 2   V2      284807 non-null  float64\n",
      " 3   V3      284807 non-null  float64\n",
      " 4   V4      284807 non-null  float64\n",
      " 5   V5      284807 non-null  float64\n",
      " 6   V6      284807 non-null  float64\n",
      " 7   V7      284807 non-null  float64\n",
      " 8   V8      284807 non-null  float64\n",
      " 9   V9      284807 non-null  float64\n",
      " 10  V10     284807 non-null  float64\n",
      " 11  V11     284807 non-null  float64\n",
      " 12  V12     284807 non-null  float64\n",
      " 13  V13     284807 non-null  float64\n",
      " 14  V14     284807 non-null  float64\n",
      " 15  V15     284807 non-null  float64\n",
      " 16  V16     284807 non-null  float64\n",
      " 17  V17     284807 non-null  float64\n",
      " 18  V18     284807 non-null  float64\n",
      " 19  V19     284807 non-null  float64\n",
      " 20  V20     284807 non-null  float64\n",
      " 21  V21     284807 non-null  float64\n",
      " 22  V22     284807 non-null  float64\n",
      " 23  V23     284807 non-null  float64\n",
      " 24  V24     284807 non-null  float64\n",
      " 25  V25     284807 non-null  float64\n",
      " 26  V26     284807 non-null  float64\n",
      " 27  V27     284807 non-null  float64\n",
      " 28  V28     284807 non-null  float64\n",
      " 29  Amount  284807 non-null  float64\n",
      " 30  Class   284807 non-null  int64  \n",
      "dtypes: float64(30), int64(1)\n",
      "memory usage: 67.4 MB\n"
     ]
    }
   ],
   "source": [
    "credit_data.info()"
   ]
  },
  {
   "cell_type": "code",
   "execution_count": 5,
   "id": "955b7e1a",
   "metadata": {
    "execution": {
     "iopub.execute_input": "2023-09-14T15:33:05.841283Z",
     "iopub.status.busy": "2023-09-14T15:33:05.840781Z",
     "iopub.status.idle": "2023-09-14T15:33:05.856009Z",
     "shell.execute_reply": "2023-09-14T15:33:05.854845Z"
    },
    "papermill": {
     "duration": 0.034657,
     "end_time": "2023-09-14T15:33:05.858945",
     "exception": false,
     "start_time": "2023-09-14T15:33:05.824288",
     "status": "completed"
    },
    "tags": []
   },
   "outputs": [
    {
     "data": {
      "text/plain": [
       "Class\n",
       "0    284315\n",
       "1       492\n",
       "Name: count, dtype: int64"
      ]
     },
     "execution_count": 5,
     "metadata": {},
     "output_type": "execute_result"
    }
   ],
   "source": [
    "credit_data[\"Class\"].value_counts()"
   ]
  },
  {
   "cell_type": "code",
   "execution_count": 6,
   "id": "5aa15a15",
   "metadata": {
    "execution": {
     "iopub.execute_input": "2023-09-14T15:33:05.887414Z",
     "iopub.status.busy": "2023-09-14T15:33:05.886097Z",
     "iopub.status.idle": "2023-09-14T15:33:05.943328Z",
     "shell.execute_reply": "2023-09-14T15:33:05.942209Z"
    },
    "papermill": {
     "duration": 0.073499,
     "end_time": "2023-09-14T15:33:05.945962",
     "exception": false,
     "start_time": "2023-09-14T15:33:05.872463",
     "status": "completed"
    },
    "tags": []
   },
   "outputs": [],
   "source": [
    "legit=credit_data[credit_data.Class==0]\n",
    "fraud=credit_data[credit_data.Class==1]"
   ]
  },
  {
   "cell_type": "code",
   "execution_count": 7,
   "id": "abf86e8b",
   "metadata": {
    "execution": {
     "iopub.execute_input": "2023-09-14T15:33:05.972858Z",
     "iopub.status.busy": "2023-09-14T15:33:05.971719Z",
     "iopub.status.idle": "2023-09-14T15:33:05.978320Z",
     "shell.execute_reply": "2023-09-14T15:33:05.976918Z"
    },
    "papermill": {
     "duration": 0.022524,
     "end_time": "2023-09-14T15:33:05.980640",
     "exception": false,
     "start_time": "2023-09-14T15:33:05.958116",
     "status": "completed"
    },
    "tags": []
   },
   "outputs": [
    {
     "name": "stdout",
     "output_type": "stream",
     "text": [
      "(284315, 31)\n",
      "(492, 31)\n"
     ]
    }
   ],
   "source": [
    "print(legit.shape)\n",
    "print(fraud.shape)"
   ]
  },
  {
   "cell_type": "code",
   "execution_count": 8,
   "id": "278b8d10",
   "metadata": {
    "execution": {
     "iopub.execute_input": "2023-09-14T15:33:06.007928Z",
     "iopub.status.busy": "2023-09-14T15:33:06.006697Z",
     "iopub.status.idle": "2023-09-14T15:33:06.033989Z",
     "shell.execute_reply": "2023-09-14T15:33:06.032963Z"
    },
    "papermill": {
     "duration": 0.043606,
     "end_time": "2023-09-14T15:33:06.036285",
     "exception": false,
     "start_time": "2023-09-14T15:33:05.992679",
     "status": "completed"
    },
    "tags": []
   },
   "outputs": [
    {
     "data": {
      "text/plain": [
       "count    284315.000000\n",
       "mean         88.291022\n",
       "std         250.105092\n",
       "min           0.000000\n",
       "25%           5.650000\n",
       "50%          22.000000\n",
       "75%          77.050000\n",
       "max       25691.160000\n",
       "Name: Amount, dtype: float64"
      ]
     },
     "execution_count": 8,
     "metadata": {},
     "output_type": "execute_result"
    }
   ],
   "source": [
    "legit.Amount.describe()"
   ]
  },
  {
   "cell_type": "code",
   "execution_count": 9,
   "id": "f3813ae8",
   "metadata": {
    "execution": {
     "iopub.execute_input": "2023-09-14T15:33:06.063987Z",
     "iopub.status.busy": "2023-09-14T15:33:06.062702Z",
     "iopub.status.idle": "2023-09-14T15:33:06.076017Z",
     "shell.execute_reply": "2023-09-14T15:33:06.074981Z"
    },
    "papermill": {
     "duration": 0.029913,
     "end_time": "2023-09-14T15:33:06.078599",
     "exception": false,
     "start_time": "2023-09-14T15:33:06.048686",
     "status": "completed"
    },
    "tags": []
   },
   "outputs": [
    {
     "data": {
      "text/plain": [
       "count     492.000000\n",
       "mean      122.211321\n",
       "std       256.683288\n",
       "min         0.000000\n",
       "25%         1.000000\n",
       "50%         9.250000\n",
       "75%       105.890000\n",
       "max      2125.870000\n",
       "Name: Amount, dtype: float64"
      ]
     },
     "execution_count": 9,
     "metadata": {},
     "output_type": "execute_result"
    }
   ],
   "source": [
    "fraud.Amount.describe()"
   ]
  },
  {
   "cell_type": "code",
   "execution_count": 10,
   "id": "2f1acfa6",
   "metadata": {
    "execution": {
     "iopub.execute_input": "2023-09-14T15:33:06.106333Z",
     "iopub.status.busy": "2023-09-14T15:33:06.105475Z",
     "iopub.status.idle": "2023-09-14T15:33:06.222504Z",
     "shell.execute_reply": "2023-09-14T15:33:06.221323Z"
    },
    "papermill": {
     "duration": 0.134505,
     "end_time": "2023-09-14T15:33:06.225783",
     "exception": false,
     "start_time": "2023-09-14T15:33:06.091278",
     "status": "completed"
    },
    "tags": []
   },
   "outputs": [
    {
     "data": {
      "text/html": [
       "<div>\n",
       "<style scoped>\n",
       "    .dataframe tbody tr th:only-of-type {\n",
       "        vertical-align: middle;\n",
       "    }\n",
       "\n",
       "    .dataframe tbody tr th {\n",
       "        vertical-align: top;\n",
       "    }\n",
       "\n",
       "    .dataframe thead th {\n",
       "        text-align: right;\n",
       "    }\n",
       "</style>\n",
       "<table border=\"1\" class=\"dataframe\">\n",
       "  <thead>\n",
       "    <tr style=\"text-align: right;\">\n",
       "      <th></th>\n",
       "      <th>Time</th>\n",
       "      <th>V1</th>\n",
       "      <th>V2</th>\n",
       "      <th>V3</th>\n",
       "      <th>V4</th>\n",
       "      <th>V5</th>\n",
       "      <th>V6</th>\n",
       "      <th>V7</th>\n",
       "      <th>V8</th>\n",
       "      <th>V9</th>\n",
       "      <th>...</th>\n",
       "      <th>V20</th>\n",
       "      <th>V21</th>\n",
       "      <th>V22</th>\n",
       "      <th>V23</th>\n",
       "      <th>V24</th>\n",
       "      <th>V25</th>\n",
       "      <th>V26</th>\n",
       "      <th>V27</th>\n",
       "      <th>V28</th>\n",
       "      <th>Amount</th>\n",
       "    </tr>\n",
       "    <tr>\n",
       "      <th>Class</th>\n",
       "      <th></th>\n",
       "      <th></th>\n",
       "      <th></th>\n",
       "      <th></th>\n",
       "      <th></th>\n",
       "      <th></th>\n",
       "      <th></th>\n",
       "      <th></th>\n",
       "      <th></th>\n",
       "      <th></th>\n",
       "      <th></th>\n",
       "      <th></th>\n",
       "      <th></th>\n",
       "      <th></th>\n",
       "      <th></th>\n",
       "      <th></th>\n",
       "      <th></th>\n",
       "      <th></th>\n",
       "      <th></th>\n",
       "      <th></th>\n",
       "      <th></th>\n",
       "    </tr>\n",
       "  </thead>\n",
       "  <tbody>\n",
       "    <tr>\n",
       "      <th>0</th>\n",
       "      <td>94838.202258</td>\n",
       "      <td>0.008258</td>\n",
       "      <td>-0.006271</td>\n",
       "      <td>0.012171</td>\n",
       "      <td>-0.007860</td>\n",
       "      <td>0.005453</td>\n",
       "      <td>0.002419</td>\n",
       "      <td>0.009637</td>\n",
       "      <td>-0.000987</td>\n",
       "      <td>0.004467</td>\n",
       "      <td>...</td>\n",
       "      <td>-0.000644</td>\n",
       "      <td>-0.001235</td>\n",
       "      <td>-0.000024</td>\n",
       "      <td>0.000070</td>\n",
       "      <td>0.000182</td>\n",
       "      <td>-0.000072</td>\n",
       "      <td>-0.000089</td>\n",
       "      <td>-0.000295</td>\n",
       "      <td>-0.000131</td>\n",
       "      <td>88.291022</td>\n",
       "    </tr>\n",
       "    <tr>\n",
       "      <th>1</th>\n",
       "      <td>80746.806911</td>\n",
       "      <td>-4.771948</td>\n",
       "      <td>3.623778</td>\n",
       "      <td>-7.033281</td>\n",
       "      <td>4.542029</td>\n",
       "      <td>-3.151225</td>\n",
       "      <td>-1.397737</td>\n",
       "      <td>-5.568731</td>\n",
       "      <td>0.570636</td>\n",
       "      <td>-2.581123</td>\n",
       "      <td>...</td>\n",
       "      <td>0.372319</td>\n",
       "      <td>0.713588</td>\n",
       "      <td>0.014049</td>\n",
       "      <td>-0.040308</td>\n",
       "      <td>-0.105130</td>\n",
       "      <td>0.041449</td>\n",
       "      <td>0.051648</td>\n",
       "      <td>0.170575</td>\n",
       "      <td>0.075667</td>\n",
       "      <td>122.211321</td>\n",
       "    </tr>\n",
       "  </tbody>\n",
       "</table>\n",
       "<p>2 rows × 30 columns</p>\n",
       "</div>"
      ],
      "text/plain": [
       "               Time        V1        V2        V3        V4        V5  \\\n",
       "Class                                                                   \n",
       "0      94838.202258  0.008258 -0.006271  0.012171 -0.007860  0.005453   \n",
       "1      80746.806911 -4.771948  3.623778 -7.033281  4.542029 -3.151225   \n",
       "\n",
       "             V6        V7        V8        V9  ...       V20       V21  \\\n",
       "Class                                          ...                       \n",
       "0      0.002419  0.009637 -0.000987  0.004467  ... -0.000644 -0.001235   \n",
       "1     -1.397737 -5.568731  0.570636 -2.581123  ...  0.372319  0.713588   \n",
       "\n",
       "            V22       V23       V24       V25       V26       V27       V28  \\\n",
       "Class                                                                         \n",
       "0     -0.000024  0.000070  0.000182 -0.000072 -0.000089 -0.000295 -0.000131   \n",
       "1      0.014049 -0.040308 -0.105130  0.041449  0.051648  0.170575  0.075667   \n",
       "\n",
       "           Amount  \n",
       "Class              \n",
       "0       88.291022  \n",
       "1      122.211321  \n",
       "\n",
       "[2 rows x 30 columns]"
      ]
     },
     "execution_count": 10,
     "metadata": {},
     "output_type": "execute_result"
    }
   ],
   "source": [
    "credit_data.groupby(\"Class\").mean()"
   ]
  },
  {
   "cell_type": "markdown",
   "id": "a88d2659",
   "metadata": {
    "papermill": {
     "duration": 0.012201,
     "end_time": "2023-09-14T15:33:06.253509",
     "exception": false,
     "start_time": "2023-09-14T15:33:06.241308",
     "status": "completed"
    },
    "tags": []
   },
   "source": [
    "Building a sample dataset containing similar legit and fraud transactions"
   ]
  },
  {
   "cell_type": "markdown",
   "id": "8e841f50",
   "metadata": {
    "papermill": {
     "duration": 0.018904,
     "end_time": "2023-09-14T15:33:06.286312",
     "exception": false,
     "start_time": "2023-09-14T15:33:06.267408",
     "status": "completed"
    },
    "tags": []
   },
   "source": []
  },
  {
   "cell_type": "code",
   "execution_count": 11,
   "id": "8f21b6c3",
   "metadata": {
    "execution": {
     "iopub.execute_input": "2023-09-14T15:33:06.319206Z",
     "iopub.status.busy": "2023-09-14T15:33:06.318726Z",
     "iopub.status.idle": "2023-09-14T15:33:06.336256Z",
     "shell.execute_reply": "2023-09-14T15:33:06.335156Z"
    },
    "papermill": {
     "duration": 0.038238,
     "end_time": "2023-09-14T15:33:06.339245",
     "exception": false,
     "start_time": "2023-09-14T15:33:06.301007",
     "status": "completed"
    },
    "tags": []
   },
   "outputs": [],
   "source": [
    "legit_sample=legit.sample(n=492)"
   ]
  },
  {
   "cell_type": "code",
   "execution_count": 12,
   "id": "8331c146",
   "metadata": {
    "execution": {
     "iopub.execute_input": "2023-09-14T15:33:06.376842Z",
     "iopub.status.busy": "2023-09-14T15:33:06.375928Z",
     "iopub.status.idle": "2023-09-14T15:33:06.382520Z",
     "shell.execute_reply": "2023-09-14T15:33:06.381099Z"
    },
    "papermill": {
     "duration": 0.027073,
     "end_time": "2023-09-14T15:33:06.385684",
     "exception": false,
     "start_time": "2023-09-14T15:33:06.358611",
     "status": "completed"
    },
    "tags": []
   },
   "outputs": [],
   "source": [
    "new=pd.concat([legit_sample,fraud],axis=0)"
   ]
  },
  {
   "cell_type": "code",
   "execution_count": 13,
   "id": "3dd65251",
   "metadata": {
    "execution": {
     "iopub.execute_input": "2023-09-14T15:33:06.423504Z",
     "iopub.status.busy": "2023-09-14T15:33:06.422455Z",
     "iopub.status.idle": "2023-09-14T15:33:06.450759Z",
     "shell.execute_reply": "2023-09-14T15:33:06.449626Z"
    },
    "papermill": {
     "duration": 0.049335,
     "end_time": "2023-09-14T15:33:06.453202",
     "exception": false,
     "start_time": "2023-09-14T15:33:06.403867",
     "status": "completed"
    },
    "tags": []
   },
   "outputs": [
    {
     "data": {
      "text/html": [
       "<div>\n",
       "<style scoped>\n",
       "    .dataframe tbody tr th:only-of-type {\n",
       "        vertical-align: middle;\n",
       "    }\n",
       "\n",
       "    .dataframe tbody tr th {\n",
       "        vertical-align: top;\n",
       "    }\n",
       "\n",
       "    .dataframe thead th {\n",
       "        text-align: right;\n",
       "    }\n",
       "</style>\n",
       "<table border=\"1\" class=\"dataframe\">\n",
       "  <thead>\n",
       "    <tr style=\"text-align: right;\">\n",
       "      <th></th>\n",
       "      <th>Time</th>\n",
       "      <th>V1</th>\n",
       "      <th>V2</th>\n",
       "      <th>V3</th>\n",
       "      <th>V4</th>\n",
       "      <th>V5</th>\n",
       "      <th>V6</th>\n",
       "      <th>V7</th>\n",
       "      <th>V8</th>\n",
       "      <th>V9</th>\n",
       "      <th>...</th>\n",
       "      <th>V21</th>\n",
       "      <th>V22</th>\n",
       "      <th>V23</th>\n",
       "      <th>V24</th>\n",
       "      <th>V25</th>\n",
       "      <th>V26</th>\n",
       "      <th>V27</th>\n",
       "      <th>V28</th>\n",
       "      <th>Amount</th>\n",
       "      <th>Class</th>\n",
       "    </tr>\n",
       "  </thead>\n",
       "  <tbody>\n",
       "    <tr>\n",
       "      <th>171718</th>\n",
       "      <td>120783.0</td>\n",
       "      <td>-0.853146</td>\n",
       "      <td>0.309548</td>\n",
       "      <td>1.656834</td>\n",
       "      <td>-0.933265</td>\n",
       "      <td>0.914678</td>\n",
       "      <td>1.657287</td>\n",
       "      <td>0.469822</td>\n",
       "      <td>0.212847</td>\n",
       "      <td>0.844270</td>\n",
       "      <td>...</td>\n",
       "      <td>0.184300</td>\n",
       "      <td>1.394718</td>\n",
       "      <td>-0.255885</td>\n",
       "      <td>-1.301253</td>\n",
       "      <td>-0.378992</td>\n",
       "      <td>0.711842</td>\n",
       "      <td>0.225623</td>\n",
       "      <td>-0.216051</td>\n",
       "      <td>38.78</td>\n",
       "      <td>0</td>\n",
       "    </tr>\n",
       "    <tr>\n",
       "      <th>28874</th>\n",
       "      <td>35208.0</td>\n",
       "      <td>0.924204</td>\n",
       "      <td>-0.595579</td>\n",
       "      <td>-0.241116</td>\n",
       "      <td>-0.687657</td>\n",
       "      <td>-0.474326</td>\n",
       "      <td>-0.210728</td>\n",
       "      <td>-0.229317</td>\n",
       "      <td>0.141167</td>\n",
       "      <td>1.356710</td>\n",
       "      <td>...</td>\n",
       "      <td>0.068737</td>\n",
       "      <td>0.119628</td>\n",
       "      <td>-0.262740</td>\n",
       "      <td>-0.392498</td>\n",
       "      <td>0.550115</td>\n",
       "      <td>-0.606014</td>\n",
       "      <td>0.069188</td>\n",
       "      <td>0.059207</td>\n",
       "      <td>143.77</td>\n",
       "      <td>0</td>\n",
       "    </tr>\n",
       "    <tr>\n",
       "      <th>268862</th>\n",
       "      <td>163415.0</td>\n",
       "      <td>0.121484</td>\n",
       "      <td>0.932940</td>\n",
       "      <td>-0.545011</td>\n",
       "      <td>-0.745542</td>\n",
       "      <td>1.132315</td>\n",
       "      <td>-0.237121</td>\n",
       "      <td>0.810265</td>\n",
       "      <td>0.115323</td>\n",
       "      <td>-0.203780</td>\n",
       "      <td>...</td>\n",
       "      <td>-0.314623</td>\n",
       "      <td>-0.808472</td>\n",
       "      <td>0.048673</td>\n",
       "      <td>0.102885</td>\n",
       "      <td>-0.436162</td>\n",
       "      <td>0.124102</td>\n",
       "      <td>0.218187</td>\n",
       "      <td>0.068752</td>\n",
       "      <td>1.98</td>\n",
       "      <td>0</td>\n",
       "    </tr>\n",
       "    <tr>\n",
       "      <th>246653</th>\n",
       "      <td>153268.0</td>\n",
       "      <td>1.922536</td>\n",
       "      <td>-0.632711</td>\n",
       "      <td>-0.210171</td>\n",
       "      <td>0.321032</td>\n",
       "      <td>-0.623886</td>\n",
       "      <td>0.461499</td>\n",
       "      <td>-1.032692</td>\n",
       "      <td>0.338195</td>\n",
       "      <td>1.209110</td>\n",
       "      <td>...</td>\n",
       "      <td>0.044271</td>\n",
       "      <td>0.127110</td>\n",
       "      <td>0.288229</td>\n",
       "      <td>0.332774</td>\n",
       "      <td>-0.536708</td>\n",
       "      <td>0.138786</td>\n",
       "      <td>-0.010150</td>\n",
       "      <td>-0.039514</td>\n",
       "      <td>26.38</td>\n",
       "      <td>0</td>\n",
       "    </tr>\n",
       "    <tr>\n",
       "      <th>186510</th>\n",
       "      <td>127140.0</td>\n",
       "      <td>0.044624</td>\n",
       "      <td>0.908268</td>\n",
       "      <td>0.309747</td>\n",
       "      <td>-0.588580</td>\n",
       "      <td>0.453493</td>\n",
       "      <td>-1.118614</td>\n",
       "      <td>1.048571</td>\n",
       "      <td>-0.239719</td>\n",
       "      <td>-0.129354</td>\n",
       "      <td>...</td>\n",
       "      <td>-0.253792</td>\n",
       "      <td>-0.523939</td>\n",
       "      <td>0.062958</td>\n",
       "      <td>0.054760</td>\n",
       "      <td>-0.471733</td>\n",
       "      <td>0.135880</td>\n",
       "      <td>0.251003</td>\n",
       "      <td>0.098677</td>\n",
       "      <td>2.67</td>\n",
       "      <td>0</td>\n",
       "    </tr>\n",
       "  </tbody>\n",
       "</table>\n",
       "<p>5 rows × 31 columns</p>\n",
       "</div>"
      ],
      "text/plain": [
       "            Time        V1        V2        V3        V4        V5        V6  \\\n",
       "171718  120783.0 -0.853146  0.309548  1.656834 -0.933265  0.914678  1.657287   \n",
       "28874    35208.0  0.924204 -0.595579 -0.241116 -0.687657 -0.474326 -0.210728   \n",
       "268862  163415.0  0.121484  0.932940 -0.545011 -0.745542  1.132315 -0.237121   \n",
       "246653  153268.0  1.922536 -0.632711 -0.210171  0.321032 -0.623886  0.461499   \n",
       "186510  127140.0  0.044624  0.908268  0.309747 -0.588580  0.453493 -1.118614   \n",
       "\n",
       "              V7        V8        V9  ...       V21       V22       V23  \\\n",
       "171718  0.469822  0.212847  0.844270  ...  0.184300  1.394718 -0.255885   \n",
       "28874  -0.229317  0.141167  1.356710  ...  0.068737  0.119628 -0.262740   \n",
       "268862  0.810265  0.115323 -0.203780  ... -0.314623 -0.808472  0.048673   \n",
       "246653 -1.032692  0.338195  1.209110  ...  0.044271  0.127110  0.288229   \n",
       "186510  1.048571 -0.239719 -0.129354  ... -0.253792 -0.523939  0.062958   \n",
       "\n",
       "             V24       V25       V26       V27       V28  Amount  Class  \n",
       "171718 -1.301253 -0.378992  0.711842  0.225623 -0.216051   38.78      0  \n",
       "28874  -0.392498  0.550115 -0.606014  0.069188  0.059207  143.77      0  \n",
       "268862  0.102885 -0.436162  0.124102  0.218187  0.068752    1.98      0  \n",
       "246653  0.332774 -0.536708  0.138786 -0.010150 -0.039514   26.38      0  \n",
       "186510  0.054760 -0.471733  0.135880  0.251003  0.098677    2.67      0  \n",
       "\n",
       "[5 rows x 31 columns]"
      ]
     },
     "execution_count": 13,
     "metadata": {},
     "output_type": "execute_result"
    }
   ],
   "source": [
    "new.head()"
   ]
  },
  {
   "cell_type": "code",
   "execution_count": 14,
   "id": "8fddf8cc",
   "metadata": {
    "execution": {
     "iopub.execute_input": "2023-09-14T15:33:06.482128Z",
     "iopub.status.busy": "2023-09-14T15:33:06.481288Z",
     "iopub.status.idle": "2023-09-14T15:33:06.490150Z",
     "shell.execute_reply": "2023-09-14T15:33:06.489107Z"
    },
    "papermill": {
     "duration": 0.026306,
     "end_time": "2023-09-14T15:33:06.492409",
     "exception": false,
     "start_time": "2023-09-14T15:33:06.466103",
     "status": "completed"
    },
    "tags": []
   },
   "outputs": [
    {
     "data": {
      "text/plain": [
       "Class\n",
       "0    492\n",
       "1    492\n",
       "Name: count, dtype: int64"
      ]
     },
     "execution_count": 14,
     "metadata": {},
     "output_type": "execute_result"
    }
   ],
   "source": [
    "new[\"Class\"].value_counts()"
   ]
  },
  {
   "cell_type": "code",
   "execution_count": 15,
   "id": "98c490bf",
   "metadata": {
    "execution": {
     "iopub.execute_input": "2023-09-14T15:33:06.520651Z",
     "iopub.status.busy": "2023-09-14T15:33:06.519972Z",
     "iopub.status.idle": "2023-09-14T15:33:06.544932Z",
     "shell.execute_reply": "2023-09-14T15:33:06.543814Z"
    },
    "papermill": {
     "duration": 0.041774,
     "end_time": "2023-09-14T15:33:06.547191",
     "exception": false,
     "start_time": "2023-09-14T15:33:06.505417",
     "status": "completed"
    },
    "tags": []
   },
   "outputs": [
    {
     "data": {
      "text/html": [
       "<div>\n",
       "<style scoped>\n",
       "    .dataframe tbody tr th:only-of-type {\n",
       "        vertical-align: middle;\n",
       "    }\n",
       "\n",
       "    .dataframe tbody tr th {\n",
       "        vertical-align: top;\n",
       "    }\n",
       "\n",
       "    .dataframe thead th {\n",
       "        text-align: right;\n",
       "    }\n",
       "</style>\n",
       "<table border=\"1\" class=\"dataframe\">\n",
       "  <thead>\n",
       "    <tr style=\"text-align: right;\">\n",
       "      <th></th>\n",
       "      <th>Time</th>\n",
       "      <th>V1</th>\n",
       "      <th>V2</th>\n",
       "      <th>V3</th>\n",
       "      <th>V4</th>\n",
       "      <th>V5</th>\n",
       "      <th>V6</th>\n",
       "      <th>V7</th>\n",
       "      <th>V8</th>\n",
       "      <th>V9</th>\n",
       "      <th>...</th>\n",
       "      <th>V20</th>\n",
       "      <th>V21</th>\n",
       "      <th>V22</th>\n",
       "      <th>V23</th>\n",
       "      <th>V24</th>\n",
       "      <th>V25</th>\n",
       "      <th>V26</th>\n",
       "      <th>V27</th>\n",
       "      <th>V28</th>\n",
       "      <th>Amount</th>\n",
       "    </tr>\n",
       "    <tr>\n",
       "      <th>Class</th>\n",
       "      <th></th>\n",
       "      <th></th>\n",
       "      <th></th>\n",
       "      <th></th>\n",
       "      <th></th>\n",
       "      <th></th>\n",
       "      <th></th>\n",
       "      <th></th>\n",
       "      <th></th>\n",
       "      <th></th>\n",
       "      <th></th>\n",
       "      <th></th>\n",
       "      <th></th>\n",
       "      <th></th>\n",
       "      <th></th>\n",
       "      <th></th>\n",
       "      <th></th>\n",
       "      <th></th>\n",
       "      <th></th>\n",
       "      <th></th>\n",
       "      <th></th>\n",
       "    </tr>\n",
       "  </thead>\n",
       "  <tbody>\n",
       "    <tr>\n",
       "      <th>0</th>\n",
       "      <td>94489.516260</td>\n",
       "      <td>-0.008876</td>\n",
       "      <td>-0.001565</td>\n",
       "      <td>0.021211</td>\n",
       "      <td>0.045302</td>\n",
       "      <td>0.091941</td>\n",
       "      <td>0.050133</td>\n",
       "      <td>0.006562</td>\n",
       "      <td>0.009384</td>\n",
       "      <td>0.021076</td>\n",
       "      <td>...</td>\n",
       "      <td>-0.060484</td>\n",
       "      <td>0.039402</td>\n",
       "      <td>0.006565</td>\n",
       "      <td>0.030183</td>\n",
       "      <td>-0.028564</td>\n",
       "      <td>0.004789</td>\n",
       "      <td>0.024264</td>\n",
       "      <td>0.026547</td>\n",
       "      <td>-0.007490</td>\n",
       "      <td>82.457093</td>\n",
       "    </tr>\n",
       "    <tr>\n",
       "      <th>1</th>\n",
       "      <td>80746.806911</td>\n",
       "      <td>-4.771948</td>\n",
       "      <td>3.623778</td>\n",
       "      <td>-7.033281</td>\n",
       "      <td>4.542029</td>\n",
       "      <td>-3.151225</td>\n",
       "      <td>-1.397737</td>\n",
       "      <td>-5.568731</td>\n",
       "      <td>0.570636</td>\n",
       "      <td>-2.581123</td>\n",
       "      <td>...</td>\n",
       "      <td>0.372319</td>\n",
       "      <td>0.713588</td>\n",
       "      <td>0.014049</td>\n",
       "      <td>-0.040308</td>\n",
       "      <td>-0.105130</td>\n",
       "      <td>0.041449</td>\n",
       "      <td>0.051648</td>\n",
       "      <td>0.170575</td>\n",
       "      <td>0.075667</td>\n",
       "      <td>122.211321</td>\n",
       "    </tr>\n",
       "  </tbody>\n",
       "</table>\n",
       "<p>2 rows × 30 columns</p>\n",
       "</div>"
      ],
      "text/plain": [
       "               Time        V1        V2        V3        V4        V5  \\\n",
       "Class                                                                   \n",
       "0      94489.516260 -0.008876 -0.001565  0.021211  0.045302  0.091941   \n",
       "1      80746.806911 -4.771948  3.623778 -7.033281  4.542029 -3.151225   \n",
       "\n",
       "             V6        V7        V8        V9  ...       V20       V21  \\\n",
       "Class                                          ...                       \n",
       "0      0.050133  0.006562  0.009384  0.021076  ... -0.060484  0.039402   \n",
       "1     -1.397737 -5.568731  0.570636 -2.581123  ...  0.372319  0.713588   \n",
       "\n",
       "            V22       V23       V24       V25       V26       V27       V28  \\\n",
       "Class                                                                         \n",
       "0      0.006565  0.030183 -0.028564  0.004789  0.024264  0.026547 -0.007490   \n",
       "1      0.014049 -0.040308 -0.105130  0.041449  0.051648  0.170575  0.075667   \n",
       "\n",
       "           Amount  \n",
       "Class              \n",
       "0       82.457093  \n",
       "1      122.211321  \n",
       "\n",
       "[2 rows x 30 columns]"
      ]
     },
     "execution_count": 15,
     "metadata": {},
     "output_type": "execute_result"
    }
   ],
   "source": [
    "new.groupby(\"Class\").mean()"
   ]
  },
  {
   "cell_type": "code",
   "execution_count": 16,
   "id": "7f252f93",
   "metadata": {
    "execution": {
     "iopub.execute_input": "2023-09-14T15:33:06.577626Z",
     "iopub.status.busy": "2023-09-14T15:33:06.577224Z",
     "iopub.status.idle": "2023-09-14T15:33:06.583597Z",
     "shell.execute_reply": "2023-09-14T15:33:06.582307Z"
    },
    "papermill": {
     "duration": 0.024017,
     "end_time": "2023-09-14T15:33:06.586421",
     "exception": false,
     "start_time": "2023-09-14T15:33:06.562404",
     "status": "completed"
    },
    "tags": []
   },
   "outputs": [],
   "source": [
    "X=new.drop(columns='Class',axis=1)\n",
    "Y=new[\"Class\"]"
   ]
  },
  {
   "cell_type": "code",
   "execution_count": 17,
   "id": "a86a9be2",
   "metadata": {
    "execution": {
     "iopub.execute_input": "2023-09-14T15:33:06.615956Z",
     "iopub.status.busy": "2023-09-14T15:33:06.615550Z",
     "iopub.status.idle": "2023-09-14T15:33:06.636345Z",
     "shell.execute_reply": "2023-09-14T15:33:06.634487Z"
    },
    "papermill": {
     "duration": 0.038526,
     "end_time": "2023-09-14T15:33:06.638958",
     "exception": false,
     "start_time": "2023-09-14T15:33:06.600432",
     "status": "completed"
    },
    "tags": []
   },
   "outputs": [
    {
     "name": "stdout",
     "output_type": "stream",
     "text": [
      "            Time        V1        V2        V3        V4        V5        V6  \\\n",
      "171718  120783.0 -0.853146  0.309548  1.656834 -0.933265  0.914678  1.657287   \n",
      "28874    35208.0  0.924204 -0.595579 -0.241116 -0.687657 -0.474326 -0.210728   \n",
      "268862  163415.0  0.121484  0.932940 -0.545011 -0.745542  1.132315 -0.237121   \n",
      "246653  153268.0  1.922536 -0.632711 -0.210171  0.321032 -0.623886  0.461499   \n",
      "186510  127140.0  0.044624  0.908268  0.309747 -0.588580  0.453493 -1.118614   \n",
      "...          ...       ...       ...       ...       ...       ...       ...   \n",
      "279863  169142.0 -1.927883  1.125653 -4.518331  1.749293 -1.566487 -2.010494   \n",
      "280143  169347.0  1.378559  1.289381 -5.004247  1.411850  0.442581 -1.326536   \n",
      "280149  169351.0 -0.676143  1.126366 -2.213700  0.468308 -1.120541 -0.003346   \n",
      "281144  169966.0 -3.113832  0.585864 -5.399730  1.817092 -0.840618 -2.943548   \n",
      "281674  170348.0  1.991976  0.158476 -2.583441  0.408670  1.151147 -0.096695   \n",
      "\n",
      "              V7        V8        V9  ...       V20       V21       V22  \\\n",
      "171718  0.469822  0.212847  0.844270  ...  0.168160  0.184300  1.394718   \n",
      "28874  -0.229317  0.141167  1.356710  ...  0.150678  0.068737  0.119628   \n",
      "268862  0.810265  0.115323 -0.203780  ... -0.000879 -0.314623 -0.808472   \n",
      "246653 -1.032692  0.338195  1.209110  ... -0.164492  0.044271  0.127110   \n",
      "186510  1.048571 -0.239719 -0.129354  ... -0.004225 -0.253792 -0.523939   \n",
      "...          ...       ...       ...  ...       ...       ...       ...   \n",
      "279863 -0.882850  0.697211 -2.064945  ...  1.252967  0.778584 -0.319189   \n",
      "280143 -1.413170  0.248525 -1.127396  ...  0.226138  0.370612  0.028234   \n",
      "280149 -2.234739  1.210158 -0.652250  ...  0.247968  0.751826  0.834108   \n",
      "281144 -2.208002  1.058733 -1.632333  ...  0.306271  0.583276 -0.269209   \n",
      "281674  0.223050 -0.068384  0.577829  ... -0.017652 -0.164350 -0.295135   \n",
      "\n",
      "             V23       V24       V25       V26       V27       V28  Amount  \n",
      "171718 -0.255885 -1.301253 -0.378992  0.711842  0.225623 -0.216051   38.78  \n",
      "28874  -0.262740 -0.392498  0.550115 -0.606014  0.069188  0.059207  143.77  \n",
      "268862  0.048673  0.102885 -0.436162  0.124102  0.218187  0.068752    1.98  \n",
      "246653  0.288229  0.332774 -0.536708  0.138786 -0.010150 -0.039514   26.38  \n",
      "186510  0.062958  0.054760 -0.471733  0.135880  0.251003  0.098677    2.67  \n",
      "...          ...       ...       ...       ...       ...       ...     ...  \n",
      "279863  0.639419 -0.294885  0.537503  0.788395  0.292680  0.147968  390.00  \n",
      "280143 -0.145640 -0.081049  0.521875  0.739467  0.389152  0.186637    0.76  \n",
      "280149  0.190944  0.032070 -0.739695  0.471111  0.385107  0.194361   77.89  \n",
      "281144 -0.456108 -0.183659 -0.328168  0.606116  0.884876 -0.253700  245.00  \n",
      "281674 -0.072173 -0.450261  0.313267 -0.289617  0.002988 -0.015309   42.53  \n",
      "\n",
      "[984 rows x 30 columns]\n"
     ]
    }
   ],
   "source": [
    "print(X)"
   ]
  },
  {
   "cell_type": "code",
   "execution_count": 18,
   "id": "ce94c002",
   "metadata": {
    "execution": {
     "iopub.execute_input": "2023-09-14T15:33:06.668303Z",
     "iopub.status.busy": "2023-09-14T15:33:06.667172Z",
     "iopub.status.idle": "2023-09-14T15:33:06.673928Z",
     "shell.execute_reply": "2023-09-14T15:33:06.672867Z"
    },
    "papermill": {
     "duration": 0.024093,
     "end_time": "2023-09-14T15:33:06.676492",
     "exception": false,
     "start_time": "2023-09-14T15:33:06.652399",
     "status": "completed"
    },
    "tags": []
   },
   "outputs": [
    {
     "name": "stdout",
     "output_type": "stream",
     "text": [
      "171718    0\n",
      "28874     0\n",
      "268862    0\n",
      "246653    0\n",
      "186510    0\n",
      "         ..\n",
      "279863    1\n",
      "280143    1\n",
      "280149    1\n",
      "281144    1\n",
      "281674    1\n",
      "Name: Class, Length: 984, dtype: int64\n"
     ]
    }
   ],
   "source": [
    "print(Y)"
   ]
  },
  {
   "cell_type": "code",
   "execution_count": 19,
   "id": "bc855f81",
   "metadata": {
    "execution": {
     "iopub.execute_input": "2023-09-14T15:33:06.705732Z",
     "iopub.status.busy": "2023-09-14T15:33:06.705315Z",
     "iopub.status.idle": "2023-09-14T15:33:06.713655Z",
     "shell.execute_reply": "2023-09-14T15:33:06.712753Z"
    },
    "papermill": {
     "duration": 0.026015,
     "end_time": "2023-09-14T15:33:06.716284",
     "exception": false,
     "start_time": "2023-09-14T15:33:06.690269",
     "status": "completed"
    },
    "tags": []
   },
   "outputs": [],
   "source": [
    "X_train,X_test,Y_train,Y_test=train_test_split(X,Y,test_size=0.2,stratify=Y,random_state=2)"
   ]
  },
  {
   "cell_type": "code",
   "execution_count": 20,
   "id": "d9373087",
   "metadata": {
    "execution": {
     "iopub.execute_input": "2023-09-14T15:33:06.745986Z",
     "iopub.status.busy": "2023-09-14T15:33:06.745584Z",
     "iopub.status.idle": "2023-09-14T15:33:06.751644Z",
     "shell.execute_reply": "2023-09-14T15:33:06.750493Z"
    },
    "papermill": {
     "duration": 0.02435,
     "end_time": "2023-09-14T15:33:06.754800",
     "exception": false,
     "start_time": "2023-09-14T15:33:06.730450",
     "status": "completed"
    },
    "tags": []
   },
   "outputs": [
    {
     "name": "stdout",
     "output_type": "stream",
     "text": [
      "(984, 30) (787, 30) (197, 30)\n"
     ]
    }
   ],
   "source": [
    "print(X.shape,X_train.shape,X_test.shape)"
   ]
  },
  {
   "cell_type": "code",
   "execution_count": 21,
   "id": "ff6e3ac3",
   "metadata": {
    "execution": {
     "iopub.execute_input": "2023-09-14T15:33:06.784276Z",
     "iopub.status.busy": "2023-09-14T15:33:06.783905Z",
     "iopub.status.idle": "2023-09-14T15:33:06.788813Z",
     "shell.execute_reply": "2023-09-14T15:33:06.787717Z"
    },
    "papermill": {
     "duration": 0.022046,
     "end_time": "2023-09-14T15:33:06.790981",
     "exception": false,
     "start_time": "2023-09-14T15:33:06.768935",
     "status": "completed"
    },
    "tags": []
   },
   "outputs": [],
   "source": [
    "model=LogisticRegression()"
   ]
  },
  {
   "cell_type": "code",
   "execution_count": 22,
   "id": "d554f0fa",
   "metadata": {
    "execution": {
     "iopub.execute_input": "2023-09-14T15:33:06.820751Z",
     "iopub.status.busy": "2023-09-14T15:33:06.820093Z",
     "iopub.status.idle": "2023-09-14T15:33:06.897151Z",
     "shell.execute_reply": "2023-09-14T15:33:06.895969Z"
    },
    "papermill": {
     "duration": 0.096129,
     "end_time": "2023-09-14T15:33:06.900889",
     "exception": false,
     "start_time": "2023-09-14T15:33:06.804760",
     "status": "completed"
    },
    "tags": []
   },
   "outputs": [
    {
     "data": {
      "text/html": [
       "<style>#sk-container-id-1 {color: black;background-color: white;}#sk-container-id-1 pre{padding: 0;}#sk-container-id-1 div.sk-toggleable {background-color: white;}#sk-container-id-1 label.sk-toggleable__label {cursor: pointer;display: block;width: 100%;margin-bottom: 0;padding: 0.3em;box-sizing: border-box;text-align: center;}#sk-container-id-1 label.sk-toggleable__label-arrow:before {content: \"▸\";float: left;margin-right: 0.25em;color: #696969;}#sk-container-id-1 label.sk-toggleable__label-arrow:hover:before {color: black;}#sk-container-id-1 div.sk-estimator:hover label.sk-toggleable__label-arrow:before {color: black;}#sk-container-id-1 div.sk-toggleable__content {max-height: 0;max-width: 0;overflow: hidden;text-align: left;background-color: #f0f8ff;}#sk-container-id-1 div.sk-toggleable__content pre {margin: 0.2em;color: black;border-radius: 0.25em;background-color: #f0f8ff;}#sk-container-id-1 input.sk-toggleable__control:checked~div.sk-toggleable__content {max-height: 200px;max-width: 100%;overflow: auto;}#sk-container-id-1 input.sk-toggleable__control:checked~label.sk-toggleable__label-arrow:before {content: \"▾\";}#sk-container-id-1 div.sk-estimator input.sk-toggleable__control:checked~label.sk-toggleable__label {background-color: #d4ebff;}#sk-container-id-1 div.sk-label input.sk-toggleable__control:checked~label.sk-toggleable__label {background-color: #d4ebff;}#sk-container-id-1 input.sk-hidden--visually {border: 0;clip: rect(1px 1px 1px 1px);clip: rect(1px, 1px, 1px, 1px);height: 1px;margin: -1px;overflow: hidden;padding: 0;position: absolute;width: 1px;}#sk-container-id-1 div.sk-estimator {font-family: monospace;background-color: #f0f8ff;border: 1px dotted black;border-radius: 0.25em;box-sizing: border-box;margin-bottom: 0.5em;}#sk-container-id-1 div.sk-estimator:hover {background-color: #d4ebff;}#sk-container-id-1 div.sk-parallel-item::after {content: \"\";width: 100%;border-bottom: 1px solid gray;flex-grow: 1;}#sk-container-id-1 div.sk-label:hover label.sk-toggleable__label {background-color: #d4ebff;}#sk-container-id-1 div.sk-serial::before {content: \"\";position: absolute;border-left: 1px solid gray;box-sizing: border-box;top: 0;bottom: 0;left: 50%;z-index: 0;}#sk-container-id-1 div.sk-serial {display: flex;flex-direction: column;align-items: center;background-color: white;padding-right: 0.2em;padding-left: 0.2em;position: relative;}#sk-container-id-1 div.sk-item {position: relative;z-index: 1;}#sk-container-id-1 div.sk-parallel {display: flex;align-items: stretch;justify-content: center;background-color: white;position: relative;}#sk-container-id-1 div.sk-item::before, #sk-container-id-1 div.sk-parallel-item::before {content: \"\";position: absolute;border-left: 1px solid gray;box-sizing: border-box;top: 0;bottom: 0;left: 50%;z-index: -1;}#sk-container-id-1 div.sk-parallel-item {display: flex;flex-direction: column;z-index: 1;position: relative;background-color: white;}#sk-container-id-1 div.sk-parallel-item:first-child::after {align-self: flex-end;width: 50%;}#sk-container-id-1 div.sk-parallel-item:last-child::after {align-self: flex-start;width: 50%;}#sk-container-id-1 div.sk-parallel-item:only-child::after {width: 0;}#sk-container-id-1 div.sk-dashed-wrapped {border: 1px dashed gray;margin: 0 0.4em 0.5em 0.4em;box-sizing: border-box;padding-bottom: 0.4em;background-color: white;}#sk-container-id-1 div.sk-label label {font-family: monospace;font-weight: bold;display: inline-block;line-height: 1.2em;}#sk-container-id-1 div.sk-label-container {text-align: center;}#sk-container-id-1 div.sk-container {/* jupyter's `normalize.less` sets `[hidden] { display: none; }` but bootstrap.min.css set `[hidden] { display: none !important; }` so we also need the `!important` here to be able to override the default hidden behavior on the sphinx rendered scikit-learn.org. See: https://github.com/scikit-learn/scikit-learn/issues/21755 */display: inline-block !important;position: relative;}#sk-container-id-1 div.sk-text-repr-fallback {display: none;}</style><div id=\"sk-container-id-1\" class=\"sk-top-container\"><div class=\"sk-text-repr-fallback\"><pre>LogisticRegression()</pre><b>In a Jupyter environment, please rerun this cell to show the HTML representation or trust the notebook. <br />On GitHub, the HTML representation is unable to render, please try loading this page with nbviewer.org.</b></div><div class=\"sk-container\" hidden><div class=\"sk-item\"><div class=\"sk-estimator sk-toggleable\"><input class=\"sk-toggleable__control sk-hidden--visually\" id=\"sk-estimator-id-1\" type=\"checkbox\" checked><label for=\"sk-estimator-id-1\" class=\"sk-toggleable__label sk-toggleable__label-arrow\">LogisticRegression</label><div class=\"sk-toggleable__content\"><pre>LogisticRegression()</pre></div></div></div></div></div>"
      ],
      "text/plain": [
       "LogisticRegression()"
      ]
     },
     "execution_count": 22,
     "metadata": {},
     "output_type": "execute_result"
    }
   ],
   "source": [
    "model.fit(X_train,Y_train)"
   ]
  },
  {
   "cell_type": "code",
   "execution_count": 23,
   "id": "f437acfc",
   "metadata": {
    "execution": {
     "iopub.execute_input": "2023-09-14T15:33:06.964814Z",
     "iopub.status.busy": "2023-09-14T15:33:06.964118Z",
     "iopub.status.idle": "2023-09-14T15:33:06.982136Z",
     "shell.execute_reply": "2023-09-14T15:33:06.980602Z"
    },
    "papermill": {
     "duration": 0.054611,
     "end_time": "2023-09-14T15:33:06.986077",
     "exception": false,
     "start_time": "2023-09-14T15:33:06.931466",
     "status": "completed"
    },
    "tags": []
   },
   "outputs": [],
   "source": [
    "X_train_prediction=model.predict(X_train)\n",
    "training_accuracy=accuracy_score(X_train_prediction,Y_train)"
   ]
  },
  {
   "cell_type": "code",
   "execution_count": 24,
   "id": "659181b7",
   "metadata": {
    "execution": {
     "iopub.execute_input": "2023-09-14T15:33:07.049484Z",
     "iopub.status.busy": "2023-09-14T15:33:07.048853Z",
     "iopub.status.idle": "2023-09-14T15:33:07.056351Z",
     "shell.execute_reply": "2023-09-14T15:33:07.055287Z"
    },
    "papermill": {
     "duration": 0.044551,
     "end_time": "2023-09-14T15:33:07.060623",
     "exception": false,
     "start_time": "2023-09-14T15:33:07.016072",
     "status": "completed"
    },
    "tags": []
   },
   "outputs": [
    {
     "name": "stdout",
     "output_type": "stream",
     "text": [
      "Accuracy of the training data: 0.9377382465057179\n"
     ]
    }
   ],
   "source": [
    "print(\"Accuracy of the training data:\",training_accuracy)"
   ]
  },
  {
   "cell_type": "code",
   "execution_count": 25,
   "id": "119eb05a",
   "metadata": {
    "execution": {
     "iopub.execute_input": "2023-09-14T15:33:07.111687Z",
     "iopub.status.busy": "2023-09-14T15:33:07.110438Z",
     "iopub.status.idle": "2023-09-14T15:33:07.119549Z",
     "shell.execute_reply": "2023-09-14T15:33:07.118589Z"
    },
    "papermill": {
     "duration": 0.031234,
     "end_time": "2023-09-14T15:33:07.122120",
     "exception": false,
     "start_time": "2023-09-14T15:33:07.090886",
     "status": "completed"
    },
    "tags": []
   },
   "outputs": [],
   "source": [
    "X_test_prediction=model.predict(X_test)\n",
    "testing_accuracy=accuracy_score(X_test_prediction,Y_test)"
   ]
  },
  {
   "cell_type": "code",
   "execution_count": 26,
   "id": "15794fc3",
   "metadata": {
    "execution": {
     "iopub.execute_input": "2023-09-14T15:33:07.152780Z",
     "iopub.status.busy": "2023-09-14T15:33:07.152367Z",
     "iopub.status.idle": "2023-09-14T15:33:07.157453Z",
     "shell.execute_reply": "2023-09-14T15:33:07.156399Z"
    },
    "papermill": {
     "duration": 0.024261,
     "end_time": "2023-09-14T15:33:07.160982",
     "exception": false,
     "start_time": "2023-09-14T15:33:07.136721",
     "status": "completed"
    },
    "tags": []
   },
   "outputs": [
    {
     "name": "stdout",
     "output_type": "stream",
     "text": [
      "Accuracy of the testing data: 0.9289340101522843\n"
     ]
    }
   ],
   "source": [
    "print(\"Accuracy of the testing data:\",testing_accuracy)"
   ]
  }
 ],
 "kernelspec": {
  "display_name": "Python 3",
  "language": "python",
  "name": "python3"
 },
 "language_info": {
  "codemirror_mode": {
   "name": "ipython",
   "version": 3
  },
  "file_extension": ".py",
  "mimetype": "text/x-python",
  "name": "python",
  "nbconvert_exporter": "python",
  "pygments_lexer": "ipython3",
  "version": "3.6.4"
 },
 "metadata": {
  "kernelspec": {
   "display_name": "Python 3",
   "language": "python",
   "name": "python3"
  },
  "language_info": {
   "codemirror_mode": {
    "name": "ipython",
    "version": 3
   },
   "file_extension": ".py",
   "mimetype": "text/x-python",
   "name": "python",
   "nbconvert_exporter": "python",
   "pygments_lexer": "ipython3",
   "version": "3.10.12"
  },
  "papermill": {
   "default_parameters": {},
   "duration": 12.204986,
   "end_time": "2023-09-14T15:33:07.795973",
   "environment_variables": {},
   "exception": null,
   "input_path": "__notebook__.ipynb",
   "output_path": "__notebook__.ipynb",
   "parameters": {},
   "start_time": "2023-09-14T15:32:55.590987",
   "version": "2.4.0"
  }
 },
 "nbformat": 4,
 "nbformat_minor": 5
}
